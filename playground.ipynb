{
 "cells": [
  {
   "cell_type": "code",
   "execution_count": 1,
   "id": "30a6373f-ebb2-4d69-a239-9636e1b78e5b",
   "metadata": {},
   "outputs": [],
   "source": [
    "from systems.math.representation import Reference, Operation, Scalar"
   ]
  },
  {
   "cell_type": "code",
   "execution_count": 2,
   "id": "eb1cd585-5037-4e42-b57b-33c1ba82b005",
   "metadata": {},
   "outputs": [
    {
     "data": {
      "text/plain": [
       "(+ 3 5)"
      ]
     },
     "execution_count": 2,
     "metadata": {},
     "output_type": "execute_result"
    }
   ],
   "source": [
    "Scalar(3) + Scalar(5)"
   ]
  },
  {
   "cell_type": "code",
   "execution_count": 4,
   "id": "8d135d6c-26fd-435f-8fbb-acd44e8662fa",
   "metadata": {},
   "outputs": [
    {
     "data": {
      "text/markdown": [
       "$3 + 5$"
      ],
      "text/plain": [
       "<IPython.core.display.Markdown object>"
      ]
     },
     "execution_count": 4,
     "metadata": {},
     "output_type": "execute_result"
    }
   ],
   "source": [
    "(Scalar(3) + Scalar(5)).latex()"
   ]
  },
  {
   "cell_type": "code",
   "execution_count": 6,
   "id": "887109a1-0033-4fe8-bdf2-0870aef83b11",
   "metadata": {},
   "outputs": [
    {
     "data": {
      "text/markdown": [
       "$\\frac{\\mathit{groundwater}}{5} + 4$"
      ],
      "text/plain": [
       "<IPython.core.display.Markdown object>"
      ]
     },
     "execution_count": 6,
     "metadata": {},
     "output_type": "execute_result"
    }
   ],
   "source": [
    "(Reference(\"groundwater\") / Scalar(5) + Scalar(4)).latex()"
   ]
  },
  {
   "cell_type": "code",
   "execution_count": null,
   "id": "a9cd515d-bf9a-4cc6-a639-91982ae27674",
   "metadata": {},
   "outputs": [],
   "source": []
  }
 ],
 "metadata": {
  "kernelspec": {
   "display_name": "Python 3 (ipykernel)",
   "language": "python",
   "name": "python3"
  },
  "language_info": {
   "codemirror_mode": {
    "name": "ipython",
    "version": 3
   },
   "file_extension": ".py",
   "mimetype": "text/x-python",
   "name": "python",
   "nbconvert_exporter": "python",
   "pygments_lexer": "ipython3",
   "version": "3.12.2"
  }
 },
 "nbformat": 4,
 "nbformat_minor": 5
}
